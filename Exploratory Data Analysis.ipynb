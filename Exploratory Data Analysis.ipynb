{
 "cells": [
  {
   "cell_type": "code",
   "execution_count": 1,
   "id": "d6086346",
   "metadata": {},
   "outputs": [],
   "source": [
    "# import the necessary libraries\n",
    "import numpy as np\n",
    "import pandas as pd\n",
    "import matplotlib.pyplot as plt\n",
    "import seaborn as sns\n",
    "import warnings\n",
    "\n",
    "# Ignore all warnings\n",
    "warnings.filterwarnings(\"ignore\")\n",
    "\n",
    "%matplotlib inline"
   ]
  },
  {
   "cell_type": "code",
   "execution_count": 2,
   "id": "f99f1085",
   "metadata": {},
   "outputs": [
    {
     "data": {
      "text/html": [
       "<div>\n",
       "<style scoped>\n",
       "    .dataframe tbody tr th:only-of-type {\n",
       "        vertical-align: middle;\n",
       "    }\n",
       "\n",
       "    .dataframe tbody tr th {\n",
       "        vertical-align: top;\n",
       "    }\n",
       "\n",
       "    .dataframe thead th {\n",
       "        text-align: right;\n",
       "    }\n",
       "</style>\n",
       "<table border=\"1\" class=\"dataframe\">\n",
       "  <thead>\n",
       "    <tr style=\"text-align: right;\">\n",
       "      <th></th>\n",
       "      <th>ID</th>\n",
       "      <th>loc</th>\n",
       "      <th>title</th>\n",
       "      <th>bedroom</th>\n",
       "      <th>bathroom</th>\n",
       "      <th>parking_space</th>\n",
       "      <th>price</th>\n",
       "    </tr>\n",
       "  </thead>\n",
       "  <tbody>\n",
       "    <tr>\n",
       "      <th>0</th>\n",
       "      <td>3583</td>\n",
       "      <td>Katsina</td>\n",
       "      <td>Semi-detached duplex</td>\n",
       "      <td>2.0</td>\n",
       "      <td>2.0</td>\n",
       "      <td>1.0</td>\n",
       "      <td>1149999.565</td>\n",
       "    </tr>\n",
       "    <tr>\n",
       "      <th>1</th>\n",
       "      <td>2748</td>\n",
       "      <td>Ondo</td>\n",
       "      <td>Apartment</td>\n",
       "      <td>NaN</td>\n",
       "      <td>2.0</td>\n",
       "      <td>4.0</td>\n",
       "      <td>1672416.689</td>\n",
       "    </tr>\n",
       "    <tr>\n",
       "      <th>2</th>\n",
       "      <td>9261</td>\n",
       "      <td>Ekiti</td>\n",
       "      <td>NaN</td>\n",
       "      <td>7.0</td>\n",
       "      <td>5.0</td>\n",
       "      <td>NaN</td>\n",
       "      <td>3364799.814</td>\n",
       "    </tr>\n",
       "    <tr>\n",
       "      <th>3</th>\n",
       "      <td>2224</td>\n",
       "      <td>Anambra</td>\n",
       "      <td>Detached duplex</td>\n",
       "      <td>5.0</td>\n",
       "      <td>2.0</td>\n",
       "      <td>4.0</td>\n",
       "      <td>2410306.756</td>\n",
       "    </tr>\n",
       "    <tr>\n",
       "      <th>4</th>\n",
       "      <td>10300</td>\n",
       "      <td>Kogi</td>\n",
       "      <td>Terrace duplex</td>\n",
       "      <td>NaN</td>\n",
       "      <td>5.0</td>\n",
       "      <td>6.0</td>\n",
       "      <td>2600700.898</td>\n",
       "    </tr>\n",
       "    <tr>\n",
       "      <th>...</th>\n",
       "      <td>...</td>\n",
       "      <td>...</td>\n",
       "      <td>...</td>\n",
       "      <td>...</td>\n",
       "      <td>...</td>\n",
       "      <td>...</td>\n",
       "      <td>...</td>\n",
       "    </tr>\n",
       "    <tr>\n",
       "      <th>13995</th>\n",
       "      <td>6175</td>\n",
       "      <td>Edo</td>\n",
       "      <td>Bungalow</td>\n",
       "      <td>NaN</td>\n",
       "      <td>7.0</td>\n",
       "      <td>NaN</td>\n",
       "      <td>2367927.861</td>\n",
       "    </tr>\n",
       "    <tr>\n",
       "      <th>13996</th>\n",
       "      <td>9704</td>\n",
       "      <td>Kaduna</td>\n",
       "      <td>Apartment</td>\n",
       "      <td>NaN</td>\n",
       "      <td>7.0</td>\n",
       "      <td>5.0</td>\n",
       "      <td>2228516.471</td>\n",
       "    </tr>\n",
       "    <tr>\n",
       "      <th>13997</th>\n",
       "      <td>11190</td>\n",
       "      <td>Plateau</td>\n",
       "      <td>Bungalow</td>\n",
       "      <td>8.0</td>\n",
       "      <td>6.0</td>\n",
       "      <td>5.0</td>\n",
       "      <td>2406812.693</td>\n",
       "    </tr>\n",
       "    <tr>\n",
       "      <th>13998</th>\n",
       "      <td>9256</td>\n",
       "      <td>Delta</td>\n",
       "      <td>Flat</td>\n",
       "      <td>NaN</td>\n",
       "      <td>6.0</td>\n",
       "      <td>1.0</td>\n",
       "      <td>3348918.718</td>\n",
       "    </tr>\n",
       "    <tr>\n",
       "      <th>13999</th>\n",
       "      <td>8787</td>\n",
       "      <td>Nasarawa</td>\n",
       "      <td>NaN</td>\n",
       "      <td>9.0</td>\n",
       "      <td>7.0</td>\n",
       "      <td>5.0</td>\n",
       "      <td>2858516.890</td>\n",
       "    </tr>\n",
       "  </tbody>\n",
       "</table>\n",
       "<p>14000 rows × 7 columns</p>\n",
       "</div>"
      ],
      "text/plain": [
       "          ID       loc                 title  bedroom  bathroom  \\\n",
       "0       3583   Katsina  Semi-detached duplex      2.0       2.0   \n",
       "1       2748      Ondo             Apartment      NaN       2.0   \n",
       "2       9261     Ekiti                   NaN      7.0       5.0   \n",
       "3       2224   Anambra       Detached duplex      5.0       2.0   \n",
       "4      10300      Kogi        Terrace duplex      NaN       5.0   \n",
       "...      ...       ...                   ...      ...       ...   \n",
       "13995   6175       Edo              Bungalow      NaN       7.0   \n",
       "13996   9704    Kaduna             Apartment      NaN       7.0   \n",
       "13997  11190   Plateau              Bungalow      8.0       6.0   \n",
       "13998   9256     Delta                  Flat      NaN       6.0   \n",
       "13999   8787  Nasarawa                   NaN      9.0       7.0   \n",
       "\n",
       "       parking_space        price  \n",
       "0                1.0  1149999.565  \n",
       "1                4.0  1672416.689  \n",
       "2                NaN  3364799.814  \n",
       "3                4.0  2410306.756  \n",
       "4                6.0  2600700.898  \n",
       "...              ...          ...  \n",
       "13995            NaN  2367927.861  \n",
       "13996            5.0  2228516.471  \n",
       "13997            5.0  2406812.693  \n",
       "13998            1.0  3348918.718  \n",
       "13999            5.0  2858516.890  \n",
       "\n",
       "[14000 rows x 7 columns]"
      ]
     },
     "execution_count": 2,
     "metadata": {},
     "output_type": "execute_result"
    }
   ],
   "source": [
    "# reading the train dataset to a panda dataframe\n",
    "# the train dataset contains the price column and would be used for training the model\n",
    "train = pd.read_csv('Housing_dataset_train.csv') \n",
    "\n",
    "train"
   ]
  },
  {
   "cell_type": "code",
   "execution_count": 3,
   "id": "aa29d579",
   "metadata": {},
   "outputs": [
    {
     "data": {
      "text/html": [
       "<div>\n",
       "<style scoped>\n",
       "    .dataframe tbody tr th:only-of-type {\n",
       "        vertical-align: middle;\n",
       "    }\n",
       "\n",
       "    .dataframe tbody tr th {\n",
       "        vertical-align: top;\n",
       "    }\n",
       "\n",
       "    .dataframe thead th {\n",
       "        text-align: right;\n",
       "    }\n",
       "</style>\n",
       "<table border=\"1\" class=\"dataframe\">\n",
       "  <thead>\n",
       "    <tr style=\"text-align: right;\">\n",
       "      <th></th>\n",
       "      <th>ID</th>\n",
       "      <th>loc</th>\n",
       "      <th>title</th>\n",
       "      <th>bedroom</th>\n",
       "      <th>bathroom</th>\n",
       "      <th>parking_space</th>\n",
       "    </tr>\n",
       "  </thead>\n",
       "  <tbody>\n",
       "    <tr>\n",
       "      <th>0</th>\n",
       "      <td>845</td>\n",
       "      <td>Kano</td>\n",
       "      <td>Penthouse</td>\n",
       "      <td>4</td>\n",
       "      <td>1</td>\n",
       "      <td>2</td>\n",
       "    </tr>\n",
       "    <tr>\n",
       "      <th>1</th>\n",
       "      <td>1924</td>\n",
       "      <td>Adamawa</td>\n",
       "      <td>Apartment</td>\n",
       "      <td>2</td>\n",
       "      <td>2</td>\n",
       "      <td>4</td>\n",
       "    </tr>\n",
       "    <tr>\n",
       "      <th>2</th>\n",
       "      <td>10718</td>\n",
       "      <td>Adamawa</td>\n",
       "      <td>Bungalow</td>\n",
       "      <td>2</td>\n",
       "      <td>7</td>\n",
       "      <td>2</td>\n",
       "    </tr>\n",
       "    <tr>\n",
       "      <th>3</th>\n",
       "      <td>12076</td>\n",
       "      <td>Lagos</td>\n",
       "      <td>Mansion</td>\n",
       "      <td>9</td>\n",
       "      <td>5</td>\n",
       "      <td>2</td>\n",
       "    </tr>\n",
       "    <tr>\n",
       "      <th>4</th>\n",
       "      <td>12254</td>\n",
       "      <td>Gombe</td>\n",
       "      <td>Semi-detached duplex</td>\n",
       "      <td>5</td>\n",
       "      <td>6</td>\n",
       "      <td>1</td>\n",
       "    </tr>\n",
       "    <tr>\n",
       "      <th>...</th>\n",
       "      <td>...</td>\n",
       "      <td>...</td>\n",
       "      <td>...</td>\n",
       "      <td>...</td>\n",
       "      <td>...</td>\n",
       "      <td>...</td>\n",
       "    </tr>\n",
       "    <tr>\n",
       "      <th>5995</th>\n",
       "      <td>1594</td>\n",
       "      <td>Ekiti</td>\n",
       "      <td>Flat</td>\n",
       "      <td>4</td>\n",
       "      <td>5</td>\n",
       "      <td>2</td>\n",
       "    </tr>\n",
       "    <tr>\n",
       "      <th>5996</th>\n",
       "      <td>2416</td>\n",
       "      <td>Adamawa</td>\n",
       "      <td>Terrace duplex</td>\n",
       "      <td>5</td>\n",
       "      <td>7</td>\n",
       "      <td>1</td>\n",
       "    </tr>\n",
       "    <tr>\n",
       "      <th>5997</th>\n",
       "      <td>10195</td>\n",
       "      <td>Oyo</td>\n",
       "      <td>Townhouse</td>\n",
       "      <td>4</td>\n",
       "      <td>1</td>\n",
       "      <td>4</td>\n",
       "    </tr>\n",
       "    <tr>\n",
       "      <th>5998</th>\n",
       "      <td>9455</td>\n",
       "      <td>Bauchi</td>\n",
       "      <td>Flat</td>\n",
       "      <td>3</td>\n",
       "      <td>7</td>\n",
       "      <td>5</td>\n",
       "    </tr>\n",
       "    <tr>\n",
       "      <th>5999</th>\n",
       "      <td>11736</td>\n",
       "      <td>Sokoto</td>\n",
       "      <td>Mansion</td>\n",
       "      <td>6</td>\n",
       "      <td>1</td>\n",
       "      <td>6</td>\n",
       "    </tr>\n",
       "  </tbody>\n",
       "</table>\n",
       "<p>6000 rows × 6 columns</p>\n",
       "</div>"
      ],
      "text/plain": [
       "         ID      loc                 title  bedroom  bathroom  parking_space\n",
       "0       845     Kano             Penthouse        4         1              2\n",
       "1      1924  Adamawa             Apartment        2         2              4\n",
       "2     10718  Adamawa              Bungalow        2         7              2\n",
       "3     12076    Lagos               Mansion        9         5              2\n",
       "4     12254    Gombe  Semi-detached duplex        5         6              1\n",
       "...     ...      ...                   ...      ...       ...            ...\n",
       "5995   1594    Ekiti                  Flat        4         5              2\n",
       "5996   2416  Adamawa        Terrace duplex        5         7              1\n",
       "5997  10195      Oyo             Townhouse        4         1              4\n",
       "5998   9455   Bauchi                  Flat        3         7              5\n",
       "5999  11736   Sokoto               Mansion        6         1              6\n",
       "\n",
       "[6000 rows x 6 columns]"
      ]
     },
     "execution_count": 3,
     "metadata": {},
     "output_type": "execute_result"
    }
   ],
   "source": [
    "# reading the test dataset to a panda dataframe\n",
    "# the test dataset contains all the features, but no price column(target). The trained model would be used to predict the prices\n",
    "test = pd.read_csv('Housing_dataset_test.csv')\n",
    "\n",
    "test"
   ]
  },
  {
   "cell_type": "code",
   "execution_count": 4,
   "id": "dbcd0b2a",
   "metadata": {},
   "outputs": [
    {
     "data": {
      "text/html": [
       "<div>\n",
       "<style scoped>\n",
       "    .dataframe tbody tr th:only-of-type {\n",
       "        vertical-align: middle;\n",
       "    }\n",
       "\n",
       "    .dataframe tbody tr th {\n",
       "        vertical-align: top;\n",
       "    }\n",
       "\n",
       "    .dataframe thead th {\n",
       "        text-align: right;\n",
       "    }\n",
       "</style>\n",
       "<table border=\"1\" class=\"dataframe\">\n",
       "  <thead>\n",
       "    <tr style=\"text-align: right;\">\n",
       "      <th></th>\n",
       "      <th>ID</th>\n",
       "      <th>loc</th>\n",
       "      <th>title</th>\n",
       "      <th>bedroom</th>\n",
       "      <th>bathroom</th>\n",
       "      <th>parking_space</th>\n",
       "      <th>price</th>\n",
       "      <th>ind</th>\n",
       "    </tr>\n",
       "  </thead>\n",
       "  <tbody>\n",
       "    <tr>\n",
       "      <th>0</th>\n",
       "      <td>3583</td>\n",
       "      <td>Katsina</td>\n",
       "      <td>Semi-detached duplex</td>\n",
       "      <td>2.0</td>\n",
       "      <td>2.0</td>\n",
       "      <td>1.0</td>\n",
       "      <td>1149999.565</td>\n",
       "      <td>1</td>\n",
       "    </tr>\n",
       "    <tr>\n",
       "      <th>1</th>\n",
       "      <td>2748</td>\n",
       "      <td>Ondo</td>\n",
       "      <td>Apartment</td>\n",
       "      <td>NaN</td>\n",
       "      <td>2.0</td>\n",
       "      <td>4.0</td>\n",
       "      <td>1672416.689</td>\n",
       "      <td>1</td>\n",
       "    </tr>\n",
       "    <tr>\n",
       "      <th>2</th>\n",
       "      <td>9261</td>\n",
       "      <td>Ekiti</td>\n",
       "      <td>NaN</td>\n",
       "      <td>7.0</td>\n",
       "      <td>5.0</td>\n",
       "      <td>NaN</td>\n",
       "      <td>3364799.814</td>\n",
       "      <td>1</td>\n",
       "    </tr>\n",
       "    <tr>\n",
       "      <th>3</th>\n",
       "      <td>2224</td>\n",
       "      <td>Anambra</td>\n",
       "      <td>Detached duplex</td>\n",
       "      <td>5.0</td>\n",
       "      <td>2.0</td>\n",
       "      <td>4.0</td>\n",
       "      <td>2410306.756</td>\n",
       "      <td>1</td>\n",
       "    </tr>\n",
       "    <tr>\n",
       "      <th>4</th>\n",
       "      <td>10300</td>\n",
       "      <td>Kogi</td>\n",
       "      <td>Terrace duplex</td>\n",
       "      <td>NaN</td>\n",
       "      <td>5.0</td>\n",
       "      <td>6.0</td>\n",
       "      <td>2600700.898</td>\n",
       "      <td>1</td>\n",
       "    </tr>\n",
       "    <tr>\n",
       "      <th>...</th>\n",
       "      <td>...</td>\n",
       "      <td>...</td>\n",
       "      <td>...</td>\n",
       "      <td>...</td>\n",
       "      <td>...</td>\n",
       "      <td>...</td>\n",
       "      <td>...</td>\n",
       "      <td>...</td>\n",
       "    </tr>\n",
       "    <tr>\n",
       "      <th>5995</th>\n",
       "      <td>1594</td>\n",
       "      <td>Ekiti</td>\n",
       "      <td>Flat</td>\n",
       "      <td>4.0</td>\n",
       "      <td>5.0</td>\n",
       "      <td>2.0</td>\n",
       "      <td>NaN</td>\n",
       "      <td>0</td>\n",
       "    </tr>\n",
       "    <tr>\n",
       "      <th>5996</th>\n",
       "      <td>2416</td>\n",
       "      <td>Adamawa</td>\n",
       "      <td>Terrace duplex</td>\n",
       "      <td>5.0</td>\n",
       "      <td>7.0</td>\n",
       "      <td>1.0</td>\n",
       "      <td>NaN</td>\n",
       "      <td>0</td>\n",
       "    </tr>\n",
       "    <tr>\n",
       "      <th>5997</th>\n",
       "      <td>10195</td>\n",
       "      <td>Oyo</td>\n",
       "      <td>Townhouse</td>\n",
       "      <td>4.0</td>\n",
       "      <td>1.0</td>\n",
       "      <td>4.0</td>\n",
       "      <td>NaN</td>\n",
       "      <td>0</td>\n",
       "    </tr>\n",
       "    <tr>\n",
       "      <th>5998</th>\n",
       "      <td>9455</td>\n",
       "      <td>Bauchi</td>\n",
       "      <td>Flat</td>\n",
       "      <td>3.0</td>\n",
       "      <td>7.0</td>\n",
       "      <td>5.0</td>\n",
       "      <td>NaN</td>\n",
       "      <td>0</td>\n",
       "    </tr>\n",
       "    <tr>\n",
       "      <th>5999</th>\n",
       "      <td>11736</td>\n",
       "      <td>Sokoto</td>\n",
       "      <td>Mansion</td>\n",
       "      <td>6.0</td>\n",
       "      <td>1.0</td>\n",
       "      <td>6.0</td>\n",
       "      <td>NaN</td>\n",
       "      <td>0</td>\n",
       "    </tr>\n",
       "  </tbody>\n",
       "</table>\n",
       "<p>20000 rows × 8 columns</p>\n",
       "</div>"
      ],
      "text/plain": [
       "         ID      loc                 title  bedroom  bathroom  parking_space  \\\n",
       "0      3583  Katsina  Semi-detached duplex      2.0       2.0            1.0   \n",
       "1      2748     Ondo             Apartment      NaN       2.0            4.0   \n",
       "2      9261    Ekiti                   NaN      7.0       5.0            NaN   \n",
       "3      2224  Anambra       Detached duplex      5.0       2.0            4.0   \n",
       "4     10300     Kogi        Terrace duplex      NaN       5.0            6.0   \n",
       "...     ...      ...                   ...      ...       ...            ...   \n",
       "5995   1594    Ekiti                  Flat      4.0       5.0            2.0   \n",
       "5996   2416  Adamawa        Terrace duplex      5.0       7.0            1.0   \n",
       "5997  10195      Oyo             Townhouse      4.0       1.0            4.0   \n",
       "5998   9455   Bauchi                  Flat      3.0       7.0            5.0   \n",
       "5999  11736   Sokoto               Mansion      6.0       1.0            6.0   \n",
       "\n",
       "            price  ind  \n",
       "0     1149999.565    1  \n",
       "1     1672416.689    1  \n",
       "2     3364799.814    1  \n",
       "3     2410306.756    1  \n",
       "4     2600700.898    1  \n",
       "...           ...  ...  \n",
       "5995          NaN    0  \n",
       "5996          NaN    0  \n",
       "5997          NaN    0  \n",
       "5998          NaN    0  \n",
       "5999          NaN    0  \n",
       "\n",
       "[20000 rows x 8 columns]"
      ]
     },
     "execution_count": 4,
     "metadata": {},
     "output_type": "execute_result"
    }
   ],
   "source": [
    "train['ind'] = 1\n",
    "test['ind'] = 0\n",
    "\n",
    "# Concatenate the train and test DataFrames\n",
    "df = pd.concat([train, test])\n",
    "\n",
    "# Output the combined DataFrame\n",
    "df"
   ]
  },
  {
   "cell_type": "code",
   "execution_count": 5,
   "id": "5a570111",
   "metadata": {},
   "outputs": [
    {
     "data": {
      "text/plain": [
       "(20000, 8)"
      ]
     },
     "execution_count": 5,
     "metadata": {},
     "output_type": "execute_result"
    }
   ],
   "source": [
    "df.shape"
   ]
  },
  {
   "cell_type": "code",
   "execution_count": 6,
   "id": "7ea6a804",
   "metadata": {
    "scrolled": true
   },
   "outputs": [
    {
     "data": {
      "text/html": [
       "<div>\n",
       "<style scoped>\n",
       "    .dataframe tbody tr th:only-of-type {\n",
       "        vertical-align: middle;\n",
       "    }\n",
       "\n",
       "    .dataframe tbody tr th {\n",
       "        vertical-align: top;\n",
       "    }\n",
       "\n",
       "    .dataframe thead th {\n",
       "        text-align: right;\n",
       "    }\n",
       "</style>\n",
       "<table border=\"1\" class=\"dataframe\">\n",
       "  <thead>\n",
       "    <tr style=\"text-align: right;\">\n",
       "      <th></th>\n",
       "      <th>ID</th>\n",
       "      <th>bedroom</th>\n",
       "      <th>bathroom</th>\n",
       "      <th>parking_space</th>\n",
       "      <th>price</th>\n",
       "      <th>ind</th>\n",
       "    </tr>\n",
       "  </thead>\n",
       "  <tbody>\n",
       "    <tr>\n",
       "      <th>count</th>\n",
       "      <td>20000.000000</td>\n",
       "      <td>18201.000000</td>\n",
       "      <td>18195.000000</td>\n",
       "      <td>18189.000000</td>\n",
       "      <td>1.400000e+04</td>\n",
       "      <td>20000.000000</td>\n",
       "    </tr>\n",
       "    <tr>\n",
       "      <th>mean</th>\n",
       "      <td>4849.500000</td>\n",
       "      <td>4.315312</td>\n",
       "      <td>3.124815</td>\n",
       "      <td>3.157458</td>\n",
       "      <td>2.138082e+06</td>\n",
       "      <td>0.700000</td>\n",
       "    </tr>\n",
       "    <tr>\n",
       "      <th>std</th>\n",
       "      <td>3822.507531</td>\n",
       "      <td>2.445600</td>\n",
       "      <td>2.035028</td>\n",
       "      <td>1.601164</td>\n",
       "      <td>1.083057e+06</td>\n",
       "      <td>0.458269</td>\n",
       "    </tr>\n",
       "    <tr>\n",
       "      <th>min</th>\n",
       "      <td>0.000000</td>\n",
       "      <td>1.000000</td>\n",
       "      <td>1.000000</td>\n",
       "      <td>1.000000</td>\n",
       "      <td>4.319673e+05</td>\n",
       "      <td>0.000000</td>\n",
       "    </tr>\n",
       "    <tr>\n",
       "      <th>25%</th>\n",
       "      <td>1666.000000</td>\n",
       "      <td>2.000000</td>\n",
       "      <td>1.000000</td>\n",
       "      <td>2.000000</td>\n",
       "      <td>1.393990e+06</td>\n",
       "      <td>0.000000</td>\n",
       "    </tr>\n",
       "    <tr>\n",
       "      <th>50%</th>\n",
       "      <td>3499.500000</td>\n",
       "      <td>4.000000</td>\n",
       "      <td>2.000000</td>\n",
       "      <td>3.000000</td>\n",
       "      <td>1.895223e+06</td>\n",
       "      <td>1.000000</td>\n",
       "    </tr>\n",
       "    <tr>\n",
       "      <th>75%</th>\n",
       "      <td>7999.250000</td>\n",
       "      <td>6.000000</td>\n",
       "      <td>5.000000</td>\n",
       "      <td>4.000000</td>\n",
       "      <td>2.586699e+06</td>\n",
       "      <td>1.000000</td>\n",
       "    </tr>\n",
       "    <tr>\n",
       "      <th>max</th>\n",
       "      <td>12999.000000</td>\n",
       "      <td>9.000000</td>\n",
       "      <td>7.000000</td>\n",
       "      <td>6.000000</td>\n",
       "      <td>1.656849e+07</td>\n",
       "      <td>1.000000</td>\n",
       "    </tr>\n",
       "  </tbody>\n",
       "</table>\n",
       "</div>"
      ],
      "text/plain": [
       "                 ID       bedroom      bathroom  parking_space         price  \\\n",
       "count  20000.000000  18201.000000  18195.000000   18189.000000  1.400000e+04   \n",
       "mean    4849.500000      4.315312      3.124815       3.157458  2.138082e+06   \n",
       "std     3822.507531      2.445600      2.035028       1.601164  1.083057e+06   \n",
       "min        0.000000      1.000000      1.000000       1.000000  4.319673e+05   \n",
       "25%     1666.000000      2.000000      1.000000       2.000000  1.393990e+06   \n",
       "50%     3499.500000      4.000000      2.000000       3.000000  1.895223e+06   \n",
       "75%     7999.250000      6.000000      5.000000       4.000000  2.586699e+06   \n",
       "max    12999.000000      9.000000      7.000000       6.000000  1.656849e+07   \n",
       "\n",
       "                ind  \n",
       "count  20000.000000  \n",
       "mean       0.700000  \n",
       "std        0.458269  \n",
       "min        0.000000  \n",
       "25%        0.000000  \n",
       "50%        1.000000  \n",
       "75%        1.000000  \n",
       "max        1.000000  "
      ]
     },
     "execution_count": 6,
     "metadata": {},
     "output_type": "execute_result"
    }
   ],
   "source": [
    "# show some useful descriptive statistics for each numerical column\n",
    "df.describe()"
   ]
  },
  {
   "cell_type": "code",
   "execution_count": 7,
   "id": "91c2e159",
   "metadata": {},
   "outputs": [
    {
     "name": "stdout",
     "output_type": "stream",
     "text": [
      "<class 'pandas.core.frame.DataFrame'>\n",
      "Int64Index: 20000 entries, 0 to 5999\n",
      "Data columns (total 8 columns):\n",
      " #   Column         Non-Null Count  Dtype  \n",
      "---  ------         --------------  -----  \n",
      " 0   ID             20000 non-null  int64  \n",
      " 1   loc            18187 non-null  object \n",
      " 2   title          18278 non-null  object \n",
      " 3   bedroom        18201 non-null  float64\n",
      " 4   bathroom       18195 non-null  float64\n",
      " 5   parking_space  18189 non-null  float64\n",
      " 6   price          14000 non-null  float64\n",
      " 7   ind            20000 non-null  int64  \n",
      "dtypes: float64(4), int64(2), object(2)\n",
      "memory usage: 1.4+ MB\n"
     ]
    }
   ],
   "source": [
    "# show a concise summary of the dataframe\n",
    "df.info()"
   ]
  },
  {
   "cell_type": "markdown",
   "id": "eb2a8804",
   "metadata": {},
   "source": [
    "> Except the ID and price columns, the other columns contain missing values which would be investiagted further. "
   ]
  },
  {
   "cell_type": "code",
   "execution_count": 8,
   "id": "927809d1",
   "metadata": {},
   "outputs": [
    {
     "name": "stdout",
     "output_type": "stream",
     "text": [
      "\n",
      "Number of Duplicate Rows: 0\n"
     ]
    }
   ],
   "source": [
    "# Check for duplicate rows\n",
    "duplicate_rows = df[df.duplicated()]\n",
    "print(\"\\nNumber of Duplicate Rows:\", len(duplicate_rows))"
   ]
  },
  {
   "cell_type": "code",
   "execution_count": 9,
   "id": "98300e96",
   "metadata": {},
   "outputs": [
    {
     "data": {
      "text/plain": [
       "ID                  0\n",
       "loc              1813\n",
       "title            1722\n",
       "bedroom          1799\n",
       "bathroom         1805\n",
       "parking_space    1811\n",
       "price            6000\n",
       "ind                 0\n",
       "dtype: int64"
      ]
     },
     "execution_count": 9,
     "metadata": {},
     "output_type": "execute_result"
    }
   ],
   "source": [
    "# check the count of null values for each column\n",
    "null_counts = df.isnull().sum()\n",
    "null_counts"
   ]
  },
  {
   "cell_type": "code",
   "execution_count": 10,
   "id": "432d4ea2",
   "metadata": {},
   "outputs": [
    {
     "name": "stdout",
     "output_type": "stream",
     "text": [
      "          Column  Missing Count  Missing Percentage\n",
      "6          price           6000              30.000\n",
      "1            loc           1813               9.065\n",
      "5  parking_space           1811               9.055\n",
      "4       bathroom           1805               9.025\n",
      "3        bedroom           1799               8.995\n",
      "2          title           1722               8.610\n",
      "0             ID              0               0.000\n",
      "7            ind              0               0.000\n"
     ]
    }
   ],
   "source": [
    "# Calculate the total number of missing values in each column\n",
    "missing_counts = df.isnull().sum()\n",
    "\n",
    "# Calculate the total number of rows in the dataset\n",
    "total_rows = len(df)\n",
    "\n",
    "# Calculate the percentage of missing values for each column\n",
    "missing_percentage = (missing_counts / total_rows) * 100\n",
    "\n",
    "# Create a DataFrame to display the results\n",
    "missing_data_info = pd.DataFrame({\n",
    "    'Column': missing_counts.index,\n",
    "    'Missing Count': missing_counts.values,\n",
    "    'Missing Percentage': missing_percentage.values\n",
    "})\n",
    "\n",
    "# Sort the DataFrame by the missing percentage in descending order\n",
    "missing_data_info = missing_data_info.sort_values(by='Missing Percentage', ascending=False)\n",
    "\n",
    "# Display the result\n",
    "print(missing_data_info)"
   ]
  },
  {
   "cell_type": "markdown",
   "id": "6294b4ed",
   "metadata": {},
   "source": [
    "> The missing/null values while not a large proportion, is still significant enough to impact analysis or modeling if not handled properly. Therefore, the missing values will be Imputted with the median/mode of the respective columns."
   ]
  },
  {
   "cell_type": "code",
   "execution_count": 11,
   "id": "47a550b9",
   "metadata": {
    "scrolled": true
   },
   "outputs": [
    {
     "data": {
      "image/png": "[encoded data removed]",
      "text/plain": [
       "<Figure size 432x288 with 1 Axes>"
      ]
     },
     "metadata": {
      "needs_background": "light"
     },
     "output_type": "display_data"
    }
   ],
   "source": [
    "base_color = sns.color_palette()[0]\n",
    "\n",
    "# make a histogram plot of the price\n",
    "bins = np.arange(df['price'].min(), df['price'].max() + 1000000, 500000)\n",
    "sns.histplot(data = df, x='price', bins= bins, color = base_color, kde = True);"
   ]
  },
  {
   "cell_type": "code",
   "execution_count": 12,
   "id": "8cea52aa",
   "metadata": {},
   "outputs": [
    {
     "data": {
      "image/png": "[encoded data removed]",
      "text/plain": [
       "<Figure size 432x288 with 1 Axes>"
      ]
     },
     "metadata": {
      "needs_background": "light"
     },
     "output_type": "display_data"
    },
    {
     "data": {
      "image/png": "[encoded data removed]",
      "text/plain": [
       "<Figure size 432x288 with 1 Axes>"
      ]
     },
     "metadata": {
      "needs_background": "light"
     },
     "output_type": "display_data"
    },
    {
     "data": {
      "image/png": "[encoded data removed]",
      "text/plain": [
       "<Figure size 432x288 with 1 Axes>"
      ]
     },
     "metadata": {
      "needs_background": "light"
     },
     "output_type": "display_data"
    }
   ],
   "source": [
    "# make a histogram of the remaining numerical features\n",
    "# write a function for the histogram plot\n",
    "def plot_histogram (data, column_name):\n",
    "    bins = np.arange(data[column_name].min(), data[column_name].max() + 1, 0.5)\n",
    "    sns.histplot(data[column_name], bins=bins, edgecolor='black', color = base_color, kde = True)\n",
    "    plt.xlabel(column_name)\n",
    "    plt.ylabel('Frequency')\n",
    "    plt.title(f'Histogram of {column_name}')\n",
    "    plt.show()\n",
    "\n",
    "# apply the function to the respective columns\n",
    "numerical_features = ['bedroom','bathroom','parking_space']\n",
    "for column_name in numerical_features:\n",
    "     plot_histogram(df, column_name)"
   ]
  },
  {
   "cell_type": "markdown",
   "id": "9fd024ee",
   "metadata": {},
   "source": [
    "> The distribution of the numerical columns (price, bedroom, bathroom, and parking space) appear to be right-skewed with majority of the data points lying to the left of the plots. "
   ]
  },
  {
   "cell_type": "code",
   "execution_count": 13,
   "id": "5d8440b9",
   "metadata": {
    "scrolled": true
   },
   "outputs": [
    {
     "data": {
      "image/png": "[encoded data removed]",
      "text/plain": [
       "<Figure size 432x288 with 1 Axes>"
      ]
     },
     "metadata": {
      "needs_background": "light"
     },
     "output_type": "display_data"
    }
   ],
   "source": [
    "# make a bar plot of the title column\n",
    "title_counts = df['title'].value_counts(ascending = True)\n",
    "\n",
    "title_counts.plot(kind='barh', color= base_color)\n",
    "plt.xlabel('Count')\n",
    "plt.ylabel('Title')\n",
    "plt.title('Bar plot of house Titles')\n",
    "plt.tight_layout()\n",
    "plt.show()"
   ]
  },
  {
   "cell_type": "markdown",
   "id": "ac8959c9",
   "metadata": {},
   "source": [
    "> The most popular building apprear to be the flat, while the cottage is the least popular offered by the real estate company. Other house styles are also very popular."
   ]
  },
  {
   "cell_type": "code",
   "execution_count": 14,
   "id": "2660157f",
   "metadata": {},
   "outputs": [
    {
     "data": {
      "text/plain": [
       "array(['Katsina', 'Ondo', 'Ekiti', 'Anambra', 'Kogi', 'Borno', 'Kwara',\n",
       "       'Osun', 'Kaduna', 'Ogun', 'Bayelsa', nan, 'Abia', 'Rivers',\n",
       "       'Taraba', 'Ebonyi', 'Kebbi', 'Enugu', 'Edo', 'Nasarawa', 'Delta',\n",
       "       'Kano', 'Yobe', 'Benue', 'Bauchi', 'Cross River', 'Niger',\n",
       "       'Adamawa', 'Plateau', 'Imo', 'Oyo', 'Zamfara', 'Sokoto', 'Jigawa',\n",
       "       'Gombe', 'Akwa Ibom', 'Lagos'], dtype=object)"
      ]
     },
     "execution_count": 14,
     "metadata": {},
     "output_type": "execute_result"
    }
   ],
   "source": [
    "# show the unique values in the location column\n",
    "df['loc'].unique()"
   ]
  },
  {
   "cell_type": "code",
   "execution_count": 15,
   "id": "534e294f",
   "metadata": {},
   "outputs": [
    {
     "data": {
      "image/png": "[encoded data removed]",
      "text/plain": [
       "<Figure size 576x432 with 1 Axes>"
      ]
     },
     "metadata": {
      "needs_background": "light"
     },
     "output_type": "display_data"
    }
   ],
   "source": [
    "# Count the occurrences of each state in the 'location' column\n",
    "state_counts = df['loc'].value_counts()\n",
    "\n",
    "# Select the top ten states\n",
    "top_ten_states = state_counts.head(10)\n",
    "\n",
    "# Sort the top ten states in descending order\n",
    "top_ten_states = top_ten_states.sort_values(ascending=True)\n",
    "\n",
    "# Plot the top ten states on a bar chart\n",
    "plt.figure(figsize=(8, 6))\n",
    "top_ten_states.plot(kind='barh', color= base_color)\n",
    "plt.xlabel('Count')\n",
    "plt.ylabel('State')\n",
    "plt.title('Top Ten States')\n",
    "plt.tight_layout()\n",
    "plt.show()"
   ]
  },
  {
   "cell_type": "markdown",
   "id": "8f3ff60b",
   "metadata": {},
   "source": [
    "> Kaduna leads the states followed closely by Anambra and then Borno State."
   ]
  },
  {
   "cell_type": "code",
   "execution_count": 16,
   "id": "fc96f451",
   "metadata": {},
   "outputs": [
    {
     "data": {
      "image/png": "[encoded data removed]",
      "text/plain": [
       "<Figure size 864x432 with 1 Axes>"
      ]
     },
     "metadata": {
      "needs_background": "light"
     },
     "output_type": "display_data"
    },
    {
     "data": {
      "image/png": "[encoded data removed]",
      "text/plain": [
       "<Figure size 720x432 with 1 Axes>"
      ]
     },
     "metadata": {
      "needs_background": "light"
     },
     "output_type": "display_data"
    }
   ],
   "source": [
    "# Relationship between 'loc' and 'price'\n",
    "plt.figure(figsize=(12, 6))\n",
    "sns.barplot(x='loc', y='price', data= df, color = base_color)\n",
    "plt.xlabel('Location')\n",
    "plt.ylabel('Average Price')\n",
    "plt.title('Average Price vs. Location')\n",
    "plt.xticks(rotation=90)\n",
    "plt.show()\n",
    "\n",
    "# Relationship between 'title' and 'price'\n",
    "plt.figure(figsize=(10, 6))\n",
    "sns.barplot(x='title', y='price', data= df, color = base_color)\n",
    "plt.xlabel('Title')\n",
    "plt.ylabel('Average Price')\n",
    "plt.title('Average Price vs. Title')\n",
    "plt.xticks(rotation=45)\n",
    "plt.show()"
   ]
  },
  {
   "cell_type": "markdown",
   "id": "a831eefe",
   "metadata": {},
   "source": [
    "> Price of houses are highest in Lagos state. Other states with relative high cost of houses include; Bayelsa, Rivers, Delta, Cross River and AkwaIbom. The mansion is the most expensive building followed by the Penthouse and then the Detached Duplex. "
   ]
  },
  {
   "cell_type": "code",
   "execution_count": 17,
   "id": "58b08101",
   "metadata": {},
   "outputs": [
    {
     "data": {
      "image/png": "[encoded data removed]",
      "text/plain": [
       "<Figure size 576x432 with 2 Axes>"
      ]
     },
     "metadata": {
      "needs_background": "light"
     },
     "output_type": "display_data"
    }
   ],
   "source": [
    "# to see the correlation among all the variables\n",
    "plt.figure(figsize=(8, 6))\n",
    "sns.heatmap(df.corr(),\n",
    "            cmap = 'Blues',\n",
    "            fmt = '.2f',\n",
    "            linewidths = 2,\n",
    "            annot = True);"
   ]
  },
  {
   "cell_type": "markdown",
   "id": "ed8bec46",
   "metadata": {},
   "source": [
    "> The number of bedrooms is moderately positively correlated to price with a correlation of 0.53. Other factors have minimal correlation with each other."
   ]
  }
 ],
 "metadata": {
  "kernelspec": {
   "display_name": "Python 3 (ipykernel)",
   "language": "python",
   "name": "python3"
  },
  "language_info": {
   "codemirror_mode": {
    "name": "ipython",
    "version": 3
   },
   "file_extension": ".py",
   "mimetype": "text/x-python",
   "name": "python",
   "nbconvert_exporter": "python",
   "pygments_lexer": "ipython3",
   "version": "3.9.12"
  }
 },
 "nbformat": 4,
 "nbformat_minor": 5
}
